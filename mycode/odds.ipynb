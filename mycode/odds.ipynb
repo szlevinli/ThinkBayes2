{
 "cells": [
  {
   "cell_type": "markdown",
   "metadata": {},
   "source": [
    "# Odds 胜率\n",
    "\n",
    "odds 指的是**胜率**\n",
    "odds against 指的是**赔率**\n",
    "\n",
    "odds 通常采用 $N:1$ 的方式表示，如果说某事有9成把握，胜率可用 $9:1$ 的形式表示\n",
    "\n",
    "odds against 是 odds 的反义，如果说某事只有2成把握，赔率可用 $2:8$ 即 $1:4$ 形式表示\n",
    "\n",
    "\n",
    "## Odds 与 Probability\n",
    "\n",
    "- $odds = \\frac{probability}{1-probability}$\n",
    "- ---\n",
    "- $probability = \\frac{odds}{1+odds}$\n",
    "\n",
    "## Odds 与 Bayes\n",
    "\n",
    "如果我们有两个假设，A 和 B，我们可以像下面的方式表述两个假设的比\n",
    "\n",
    "$\\frac{p(A|D)}{p(B|D)}=\\frac{p(A)p(D|A)}{p(B)p(D|B)}$\n",
    "\n",
    "*注意标准化常量（normalizing constant） $p(D)$ 被等式约掉了*\n",
    "\n",
    "如果 A 和 B 满足互斥（mutually exclusive）和完全穷尽（collectively exhaustive），则意味着 $p(B)=1-p(A)$，因此我们可以改写先验概率比和后验概率比的表示方式\n",
    "\n",
    "$o(A|D)=o(A)\\frac{p(D|A)}{p(D|B)}$\n",
    "\n",
    "换句话来说，上面的公式可以表述为，后验概率的胜率等于先验概率的胜率乘以似然的胜率。这个就是**胜率贝叶斯公式**。"
   ]
  },
  {
   "cell_type": "code",
   "execution_count": null,
   "metadata": {},
   "outputs": [],
   "source": []
  }
 ],
 "metadata": {
  "kernelspec": {
   "display_name": "Python 3",
   "language": "python",
   "name": "python3"
  },
  "language_info": {
   "codemirror_mode": {
    "name": "ipython",
    "version": 3
   },
   "file_extension": ".py",
   "mimetype": "text/x-python",
   "name": "python",
   "nbconvert_exporter": "python",
   "pygments_lexer": "ipython3",
   "version": "3.6.5"
  }
 },
 "nbformat": 4,
 "nbformat_minor": 2
}
